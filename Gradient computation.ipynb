{
 "cells": [
  {
   "cell_type": "markdown",
   "metadata": {},
   "source": [
    "We have the loss function"
   ]
  },
  {
   "cell_type": "markdown",
   "metadata": {},
   "source": [
    "<center>\n",
    "$\\displaystyle{J = \\frac{1}{N} \\left[ \\sum_{i=1}^N -log \\space \\psi(z_{yi}) \\right] = \\frac{1}{N} \\left[ \\sum_{i=1}^N -log \\displaystyle{ \\frac{e^{z_{y_i}}}{\\sum_j e^{z_j}} } \\right] = \\frac{1}{N} \\left[ \\sum_{i=1, j = k_i}^N -log \\displaystyle{ \\frac{e^{z_{i,j}}}{\\sum_j e^{z_j}} } \\right]}$\n",
    "</center>"
   ]
  },
  {
   "cell_type": "markdown",
   "metadata": {},
   "source": [
    "Where we use the notation $z = z^{(3)}$ and the softmax activation function is \n",
    "\n",
    "<center>\n",
    "$\\displaystyle{ \\psi(z_{yi}) = \\frac{e^{z_{y_i}}}{\\sum_j e^{z_j}} = \\frac{e^{z_{i k_i}}}{\\sum_j e^{z_j}} }$\n",
    "</center>"
   ]
  },
  {
   "cell_type": "markdown",
   "metadata": {},
   "source": [
    "The matrix $\\nabla_J$ of the derivatives of $J$ with respect to $z_{ij}$ for every $i = 1...N$ and for every $j = 1...K$ has the general element"
   ]
  },
  {
   "cell_type": "markdown",
   "metadata": {},
   "source": [
    "<center>\n",
    "$\\displaystyle{\n",
    "\\nabla_{J_{i',j'}} = \\frac{\\partial J}{\\partial z_{i'j'}} = \n",
    "\\frac{\\partial}{\\partial z_{i'j'}} \\frac{1}{N} \\left[ \\sum_{i=1}^N -log \\space \\psi(z_{yi}) \\right] = \n",
    "- \\frac{\\partial}{\\partial z_{i'j'}} \\frac{1}{N} \\left[log \\space \\psi(z_{yi'}) \\right] = \n",
    "- \\frac{1}{N} \\frac{1}{\\psi(z_{yi'})} \\frac{\\partial}{\\partial z_{i'j'}} \\psi(z_{yi'}) =\n",
    "}$\n",
    "</center>\n",
    "<br>\n",
    "<center>\n",
    "$\n",
    "\\displaystyle{\n",
    "- \\frac{1}{N} \\frac{1}{\\psi(z_{yi'})} \\frac{e^{z_{i'j'}} \\cdot \\delta(j', k_{i'}) \\sum_j e^{z_{i'j}} - e^{z_{i'k_i'}}e^{z_{i'j'}}}{(\\sum_j e^{z_{i'j}})^2} = \n",
    "}\n",
    "$\n",
    "</center>\n",
    "<br>\n",
    "<center>\n",
    "$\\displaystyle{\n",
    "- \\frac{1}{N} \\frac{\\sum_j e^{z_{i'j}}}{e^{z_{i'k_i'}}} \\frac{e^{z_{i'j'}} \\cdot \\delta(j', k_{i'}) \\sum_j e^{z_{i'j}} - e^{z_{i'k_i'}}e^{z_{i'j'}}}{(\\sum_j e^{z_{i'j}})^2} =\n",
    "}\n",
    "$\n",
    "</center>\n",
    "<br>\n",
    "<center>\n",
    "$\n",
    "\\displaystyle{\n",
    "\\frac{1}{N} \\left[\\frac{e^{z_{i'j'}}}{\\sum_j e^{z_{i'j}}} - \\delta(j', k_i') \\right]\n",
    "}$\n",
    "</center>"
   ]
  },
  {
   "cell_type": "markdown",
   "metadata": {},
   "source": [
    "where $\\delta(j', k_i')$ is the Kronecker Delta function\n",
    "\n",
    "In matrix form this is exactly:"
   ]
  },
  {
   "cell_type": "markdown",
   "metadata": {},
   "source": [
    "<center>\n",
    "$\n",
    "\\displaystyle{\n",
    "\\nabla_J = \\frac{1}{N} \\left[\\psi(z) -  \\Delta_{j, ki} \\right]\n",
    "}$\n",
    "</center>"
   ]
  },
  {
   "cell_type": "markdown",
   "metadata": {},
   "source": [
    "$\\displaystyle{\\frac{dJ}{dW_2} = \\frac{dJ}{dz^{(3)}} \\cdot \\frac{dz^{(3)}}{dW_2} = \\frac{1}{N}\\left[\\psi(z^{(3)}) - \\Delta \\right] \\cdot a^{(2)} + 2 \\lambda W_2}$"
   ]
  },
  {
   "cell_type": "markdown",
   "metadata": {},
   "source": [
    "$\\displaystyle{\\frac{dJ}{dW_2} = \\frac{dJ}{dz^{(3)}} \\cdot \\frac{dz^{(3)}}{db_2} = \\frac{1}{N}\\left[\\psi(z^{(3)}) - \\Delta \\right] \\cdot \\mathbb{1}}$"
   ]
  },
  {
   "cell_type": "code",
   "execution_count": null,
   "metadata": {},
   "outputs": [],
   "source": []
  }
 ],
 "metadata": {
  "kernelspec": {
   "display_name": "Python 3",
   "language": "python",
   "name": "python3"
  },
  "language_info": {
   "codemirror_mode": {
    "name": "ipython",
    "version": 3
   },
   "file_extension": ".py",
   "mimetype": "text/x-python",
   "name": "python",
   "nbconvert_exporter": "python",
   "pygments_lexer": "ipython3",
   "version": "3.7.6"
  }
 },
 "nbformat": 4,
 "nbformat_minor": 2
}
