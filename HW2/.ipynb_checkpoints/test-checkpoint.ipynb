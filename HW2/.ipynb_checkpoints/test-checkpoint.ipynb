{
 "cells": [
  {
   "cell_type": "markdown",
   "metadata": {},
   "source": [
    "**Verify that the loss function defined in Eq. (5) has the gradient w.r.t. $z^{(3)}$ as below:**\n",
    "\n",
    "$$\n",
    "\\frac { \\partial J } { \\partial z ^ { ( 3 ) } } ( \\{ x _ { i } , y _ { i } \\} _ { i = 1 } ^ { N } ) = \\frac { 1 } { N } ( \\psi ( z ^ { ( 3 ) } ) - \\Delta )\n",
    "$$\n",
    "\n",
    "-------"
   ]
  },
  {
   "cell_type": "markdown",
   "metadata": {},
   "source": [
    "<center>\n",
    "$\\displaystyle{J = \\frac{1}{N} \\left[ \\sum_{i=1}^N -log \\space \\psi(z_{yi}) \\right] = \\frac{1}{N} \\left[ \\sum_{i=1}^N -log \\displaystyle{ \\frac{e^{z_{y_i}}}{\\sum_j e^{z_j}} } \\right] = \\frac{1}{N} \\left[ \\sum_{i=1, j = k_i}^N -log \\displaystyle{ \\frac{e^{z_{i,j}}}{\\sum_j e^{z_j}} } \\right]}$\n",
    "</center>"
   ]
  },
  {
   "cell_type": "markdown",
   "metadata": {},
   "source": [
    "<center>\n",
    "$\\displaystyle{J = \\frac{1}{N} \\left[ \\sum_{i=1}^N -log \\space \\psi(z_{yi}) \\right] = \\frac{1}{N} \\left[ \\sum_{i=1}^N -log \\displaystyle{ \\frac{e^{z_{y_i}}}{\\sum_j e^{z_j}} } \\right] = \\frac{1}{N} \\left[ \\sum_{i=1, j = k_i}^N -log \\displaystyle{ \\frac{e^{z_{i,j}}}{\\sum_j e^{z_j}} } \\right]}$\n",
    "</center>"
   ]
  },
  {
   "cell_type": "markdown",
   "metadata": {},
   "source": [
    "\n",
    "<center>\n",
    "$\\displaystyle{ \\psi(z_{yi}) = \\frac{e^{z_{y_i}}}{\\sum_j e^{z_j}} = \\frac{e^{z_{i k_i}}}{\\sum_j e^{z_j}} }$\n",
    "</center>"
   ]
  },
  {
   "cell_type": "markdown",
   "metadata": {},
   "source": [
    "<center>\n",
    "$\\displaystyle{\n",
    "\\nabla_{J_{i',j'}} = \\frac{\\partial J}{\\partial z_{i'j'}} = \n",
    "\\frac{\\partial}{\\partial z_{i'j'}} \\frac{1}{N} \\left[ \\sum_{i=1}^N -log \\space \\psi(z_{yi}) \\right] = \n",
    "- \\frac{\\partial}{\\partial z_{i'j'}} \\frac{1}{N} \\left[log \\space \\psi(z_{yi'}) \\right] = \n",
    "- \\frac{1}{N} \\frac{1}{\\psi(z_{yi'})} \\frac{\\partial}{\\partial z_{i'j'}} \\psi(z_{yi'}) =\n",
    "}$\n",
    "</center>"
   ]
  },
  {
   "cell_type": "markdown",
   "metadata": {},
   "source": [
    "$$\\displaystyle{\n",
    "\\nabla_{J_{i',j'}} = \\frac{\\partial J}{\\partial z_{i'j'}} = \n",
    "\\frac{\\partial}{\\partial z_{i'j'}} \\frac{1}{N} \\left[ \\sum_{i=1}^N -log \\space \\psi(z_{yi}) \\right] = \n",
    "- \\frac{\\partial}{\\partial z_{i'j'}} \\frac{1}{N} \\left[log \\space \\psi(z_{yi'}) \\right] = \n",
    "- \\frac{1}{N} \\frac{1}{\\psi(z_{yi'})} \\frac{\\partial}{\\partial z_{i'j'}} \\psi(z_{yi'}) =\n",
    "}$$\n",
    "\n",
    "\n",
    "\n",
    "$$\n",
    "\\displaystyle{\n",
    "- \\frac{1}{N} \\frac{1}{\\psi(z_{yi'})} \\frac{e^{z_{i'j'}} \\cdot \\delta(j', k_{i'}) \\sum_j e^{z_{i'j}} - e^{z_{i'k_i'}}e^{z_{i'j'}}}{(\\sum_j e^{z_{i'j}})^2} = \n",
    "}\n",
    "$$\n",
    "\n",
    "\n",
    "\n",
    "$$\\displaystyle{\n",
    "- \\frac{1}{N} \\frac{\\sum_j e^{z_{i'j}}}{e^{z_{i'k_i'}}} \\frac{e^{z_{i'j'}} \\cdot \\delta(j', k_{i'}) \\sum_j e^{z_{i'j}} - e^{z_{i'k_i'}}e^{z_{i'j'}}}{(\\sum_j e^{z_{i'j}})^2} =\n",
    "}\n",
    "$$\n",
    "\n",
    "\n",
    "\n",
    "$$\n",
    "\\displaystyle{\n",
    "\\frac{1}{N} \\left[\\frac{e^{z_{i'j'}}}{\\sum_j e^{z_{i'j}}} - \\delta(j', k_i') \\right]\n",
    "}$$\n"
   ]
  },
  {
   "cell_type": "markdown",
   "metadata": {},
   "source": [
    "# Question 2c\n",
    "\n",
    "**We can repeatedly apply chain rule as discussed above to obtain the derivatives of the loss with respect to all the parameters of the model $\\theta =\\left(W^{(1)}, b^{(1)}, W^{(2)}, b^{(2)}\\right)$. Derive the expressions for the derivatives of the regularized loss in Eq. (6) w.r.t. $W^{(1)}, b^{(1)}, b^{(2)}$ now.**"
   ]
  },
  {
   "cell_type": "markdown",
   "metadata": {},
   "source": [
    "We start deriving the loss J w.r.t $W^{(1)}$, by applying the chain rule. We'll had then the regularization term. Applying the chain rule we get for $W^{(1)}$ the following:\n",
    "\n",
    "\\begin{align}\n",
    "\\frac{\\partial J}{\\partial W^{(1)}} &= \\frac{\\partial J}{\\partial z^{(2)}} \\cdot \\frac{\\partial z^{(2)}}{\\partial W^{(1)}}\\\\\n",
    "\\end{align}\n",
    "\n",
    "For $\\frac{\\partial J}{\\partial z^{(2)}}$ we apply iteratively the chain rule obtaining:\n",
    "\n",
    "\\begin{align}\n",
    "\\frac{\\partial J}{\\partial z^{(2)}} &= \\frac{\\partial J}{\\partial a^{(2)}} \\odot \\frac{\\partial a^{(2)}}{\\partial z^{(2)}} \\\\\n",
    "&= \\left( \\frac{\\partial J}{\\partial z^{(3)}} \\cdot \\frac{\\partial z^{(3)}}{\\partial a^{(2)}} \\right) \\odot \\frac{\\partial a^{(2)}}{\\partial z^{(2)}} \\\\\n",
    "\\end{align}\n",
    "\n",
    "Where $\\odot$ inidicates the element-wise product (Hadamard product) and $\\frac{\\partial a^{(2)}}{\\partial z^{(2)}} \\in \\mathbb{R}^{10 \\times 5}$ is the the derivative of the ReLu activation w.r.t. $z^{(2)}$, which is also the heaviside step function:\n",
    "\n",
    "\n",
    "$$\n",
    "\n",
    "\\frac{\\partial a_{ij}^{(2)}}{\\partial z_{ij}^{(2)}} = \n",
    "\\left \\{\n",
    "&1 \\quad if \\quad z^{(2)}_{ij} > 0\\\\\n",
    "\\quad otherwise\n",
    "\\right\n",
    "$$\n"
   ]
  },
  {
   "cell_type": "markdown",
   "metadata": {},
   "source": []
  },
  {
   "cell_type": "markdown",
   "metadata": {},
   "source": []
  },
  {
   "cell_type": "code",
   "execution_count": null,
   "metadata": {},
   "outputs": [],
   "source": []
  }
 ],
 "metadata": {
  "kernelspec": {
   "display_name": "Python 3",
   "language": "python",
   "name": "python3"
  },
  "language_info": {
   "codemirror_mode": {
    "name": "ipython",
    "version": 3
   },
   "file_extension": ".py",
   "mimetype": "text/x-python",
   "name": "python",
   "nbconvert_exporter": "python",
   "pygments_lexer": "ipython3",
   "version": "3.7.4"
  }
 },
 "nbformat": 4,
 "nbformat_minor": 4
}
