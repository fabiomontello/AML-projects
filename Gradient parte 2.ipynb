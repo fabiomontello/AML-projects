{
 "cells": [
  {
   "cell_type": "markdown",
   "metadata": {},
   "source": [
    "### 2c Derive the expressions for the derivatives of the regularized loss in Eq. (6) w.r.t. $W^{(1)}, b^{(1)}, b^{(2)}$ now.\n",
    "\n"
   ]
  },
  {
   "cell_type": "markdown",
   "metadata": {},
   "source": [
    "We start deriving the loss J w.r.t $W^{(1)}$, by applying the chain rule. We'll had then the regularization term. Applying the chain rule we get for $W^{(1)}$ the following:\n",
    "\n",
    "\\begin{align}\n",
    "\\frac{\\partial J}{\\partial W^{(1)}} &= \\frac{\\partial J}{\\partial z^{(2)}} \\cdot \\frac{\\partial z^{(2)}}{\\partial W^{(1)}}\\\\\n",
    "\\end{align}\n",
    "\n",
    "For $\\frac{\\partial J}{\\partial z^{(2)}}$ we apply iteratively the chain rule obtaining:\n",
    "\n",
    "\\begin{align}\n",
    "\\frac{\\partial J}{\\partial z^{(2)}} &= \\frac{\\partial J}{\\partial a^{(2)}} \\odot \\frac{\\partial a^{(2)}}{\\partial z^{(2)}} \\\\\n",
    "&= \\left( \\frac{\\partial J}{\\partial z^{(3)}} \\cdot \\frac{\\partial z^{(3)}}{\\partial a^{(2)}} \\right) \\odot \\frac{\\partial a^{(2)}}{\\partial z^{(2)}} \\\\\n",
    "\\end{align}\n",
    "\n",
    "Where $\\odot$ inidicates the element-wise product and $\\frac{\\partial a^{(2)}}{\\partial z^{(2)}} \\in \\mathbb{R}^{10 \\times 5}$ is the the derivative of the ReLu activation w.r.t. $z^{(2)}$, which is also the heaviside step function:\n",
    "\n",
    "\n",
    "$$\n",
    "\\frac{\\partial a_{ij}^{(2)}}{\\partial z_{ij}^{(2)}} = \n",
    "\\left \\{\n",
    "\\begin{align}\n",
    "&1 \\quad if \\quad z^{(2)}_{ij} > 0\\\\\n",
    "&0 \\quad otherwise\n",
    "\\end{align}\n",
    "\\right.\n",
    "$$\n",
    "\n",
    "We do already know $\\frac{\\partial J}{\\partial z^{(3)}}$, now the calculation of the other partial derivatives is straightforward:\n",
    "\n",
    "\\begin{align}\n",
    "\\frac{\\partial z^{(3)}}{\\partial a^{(2)}} &= \\frac{\\partial \\left(W^{(2)} a^{(2)} + b^{(2)} \\right)}{\\partial a^{(2)}} = W^{(2)} \\\\\n",
    "\\frac{\\partial z^{(2)}}{\\partial W^{(1)}} &= \\frac{\\partial \\left(W^{(1)} a^{(1)} + b^{(1)} \\right)}{\\partial W^{(1)}} = a^{(1)}\n",
    "\\end{align}\n"
   ]
  },
  {
   "cell_type": "markdown",
   "metadata": {},
   "source": [
    "---------"
   ]
  },
  {
   "cell_type": "markdown",
   "metadata": {},
   "source": [
    "Now we finally obtain the loss derivatives w.r.t. $W^{(1)}$ as it follows:\n",
    "\\begin{align}\n",
    "\\frac{\\partial J}{\\partial W^{(1)}} &= \\frac{\\partial J}{\\partial z^{(2)}} \\cdot \\frac{\\partial z^{(2)}}{\\partial W^{(1)}}\\\\ \n",
    "&= \\left[ \\left( \\frac{\\partial J}{\\partial z^{(3)}} \\cdot \\frac{\\partial z^{(3)}}{\\partial a^{(2)}} \\right) \\odot \\frac{\\partial a^{(2)}}{\\partial z^{(2)}}\\right] \\cdot \\frac{\\partial z^{(2)}}{\\partial W^{(1)}} \\\\\n",
    "&= \\frac{1}{N} \\cdot \\left\\{ \\left[ W^{(2)^T} \\cdot \\left(\\psi(z^{(3)}) - \\Delta \\right) \\right] \\odot \\frac{\\partial a^{(2)}}{\\partial z^{(2)}} \\right\\} \\cdot a^{(1)}\n",
    "\\end{align}"
   ]
  },
  {
   "cell_type": "markdown",
   "metadata": {},
   "source": [
    "We can now find the gradient of $W^{(1)}$ w.r.t the regularization term, which is:\n",
    "\n",
    "$$\n",
    "\\frac{\\partial \\lambda \\left( \\left\\lVert W^{(1)}\\right\\rVert^2_2 + \\left\\lVert W^{(2)}\\right\\rVert^2_2 \\right)}{\\partial W^{(1)}} = 2 \\lambda W^{(1)}\n",
    "$$\n"
   ]
  },
  {
   "cell_type": "markdown",
   "metadata": {},
   "source": [
    "Hence we end up having:\n",
    "\n",
    "$$\n",
    "\\frac{\\partial \\tilde{J}}{\\partial W^{(1)}} = \\frac{1}{N} \\cdot \\left\\{ \\left[ W^{(2)^T} \\cdot \\left(\\psi(z^{(3)}) - \\Delta \\right) \\right] \\odot \\frac{\\partial a^{(2)}}{\\partial z^{(2)}} \\right\\} \\cdot a^{(1)} +  2 \\lambda W^{(1)}\n",
    "$$\n"
   ]
  },
  {
   "cell_type": "code",
   "execution_count": null,
   "metadata": {},
   "outputs": [],
   "source": []
  }
 ],
 "metadata": {
  "kernelspec": {
   "display_name": "Python 3",
   "language": "python",
   "name": "python3"
  },
  "language_info": {
   "codemirror_mode": {
    "name": "ipython",
    "version": 3
   },
   "file_extension": ".py",
   "mimetype": "text/x-python",
   "name": "python",
   "nbconvert_exporter": "python",
   "pygments_lexer": "ipython3",
   "version": "3.7.6"
  }
 },
 "nbformat": 4,
 "nbformat_minor": 4
}
